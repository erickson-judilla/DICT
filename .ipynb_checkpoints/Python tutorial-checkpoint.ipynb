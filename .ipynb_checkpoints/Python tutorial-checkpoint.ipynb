{
 "cells": [
  {
   "cell_type": "markdown",
   "id": "9b9a8cae",
   "metadata": {},
   "source": [
    "### Python Review"
   ]
  },
  {
   "cell_type": "markdown",
   "id": "fdff8a1a",
   "metadata": {},
   "source": [
    "#### Functions"
   ]
  },
  {
   "cell_type": "markdown",
   "id": "97d3578b",
   "metadata": {},
   "source": [
    "A **function** is a block of code which only run when it is called.\n",
    "\n",
    "You can pass data known as **_parameters_**, into a function, A function can also **return** data as a result.\n",
    "\n",
    "This function, **get_mean**, has one parameter **ave**. The value of **m** is passed into the function and returns a result when the function is called."
   ]
  },
  {
   "cell_type": "code",
   "execution_count": 2,
   "id": "a36b0b88",
   "metadata": {},
   "outputs": [
    {
     "name": "stdout",
     "output_type": "stream",
     "text": [
      "The mean of this list is 81.5\n"
     ]
    }
   ],
   "source": [
    "def get_mean(ave):\n",
    "    print(\"The mean of this list is\", ave)\n",
    "n_num = [78,80,79,80,87,85]    \n",
    "n= len(n_num)\n",
    "\n",
    "get_sum = sum(n_num)\n",
    "mean = get_sum / n\n",
    "\n",
    "m = str(mean)\n",
    "\n",
    "get_mean(m)"
   ]
  },
  {
   "cell_type": "markdown",
   "id": "361d3003",
   "metadata": {},
   "source": [
    "### Arrays and Lists"
   ]
  },
  {
   "cell_type": "markdown",
   "id": "6d34d717",
   "metadata": {},
   "source": [
    "An array is a type of data structure. To use an array in Python, we need to **import** the data structure from the **array** module.A list is a data structure that's built into Python and holds a collection of items.\n",
    "\n",
    "This code prints the **_first 5 elements_** of the array friends_usage. In both arrays and lists, the index starts from '0' and not '1'."
   ]
  },
  {
   "cell_type": "code",
   "execution_count": 3,
   "id": "dda40089",
   "metadata": {},
   "outputs": [
    {
     "name": "stdout",
     "output_type": "stream",
     "text": [
      "array('i', [5, 4, 3, 5, 8])\n"
     ]
    }
   ],
   "source": [
    "import array as arr\n",
    "\n",
    "friends_usage = [5, 4, 3, 5, 8, 2, 5, 2, 5, 8, 10, 8, 7, 9, 10, 5, 7, 5, 7, 5, 4, 3, 5, 8, 4]\n",
    "sample_data = arr.array('i', friends_usage)\n",
    "\n",
    "print(sample_data[0:5])"
   ]
  },
  {
   "cell_type": "markdown",
   "id": "076be5e6",
   "metadata": {},
   "source": [
    "This code converts **sample_data array** to an ordinary list with the same items."
   ]
  },
  {
   "cell_type": "code",
   "execution_count": 4,
   "id": "33b1f0ae",
   "metadata": {},
   "outputs": [
    {
     "name": "stdout",
     "output_type": "stream",
     "text": [
      "[5, 4, 3, 5, 8]\n"
     ]
    }
   ],
   "source": [
    "from array import *\n",
    "sample_data_array = array('i',[5,4,3,5,8])\n",
    "\n",
    "sample_data_list = sample_data_array.tolist()\n",
    "\n",
    "print(sample_data_list)"
   ]
  },
  {
   "cell_type": "code",
   "execution_count": null,
   "id": "8b4d3bd8",
   "metadata": {},
   "outputs": [],
   "source": []
  }
 ],
 "metadata": {
  "kernelspec": {
   "display_name": "Python 3 (ipykernel)",
   "language": "python",
   "name": "python3"
  },
  "language_info": {
   "codemirror_mode": {
    "name": "ipython",
    "version": 3
   },
   "file_extension": ".py",
   "mimetype": "text/x-python",
   "name": "python",
   "nbconvert_exporter": "python",
   "pygments_lexer": "ipython3",
   "version": "3.10.4"
  }
 },
 "nbformat": 4,
 "nbformat_minor": 5
}
