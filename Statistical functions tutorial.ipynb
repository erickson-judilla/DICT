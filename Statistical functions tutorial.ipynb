{
 "cells": [
  {
   "cell_type": "markdown",
   "id": "b44e2a55",
   "metadata": {},
   "source": [
    "## Descriptive Statistics"
   ]
  },
  {
   "cell_type": "code",
   "execution_count": 1,
   "id": "8ddf4ccb",
   "metadata": {},
   "outputs": [
    {
     "name": "stdout",
     "output_type": "stream",
     "text": [
      "Descriptive Statistics\n",
      "Mean: 5.6923076923076925\n",
      "Mode: 5\n",
      "Median: 5.0\n",
      "Range: 8\n",
      "Population Variance: 5.26\n",
      "Population Standard Deviation: 2.25\n"
     ]
    }
   ],
   "source": [
    "import statistics\n",
    "import array as arr\n",
    "\n",
    "friends_usage = [5,4,3,5,8,2,5,2,5,8,10,8,7,9,10,5,7,5,7,5,4,4,3,5,8,4]\n",
    "\n",
    "sample_data = arr.array('i',friends_usage)\n",
    "dataset = sample_data[0:5]\n",
    "sample_data_list = dataset.tolist()\n",
    "\n",
    "mean = statistics.mean(friends_usage)\n",
    "mode = statistics.mode(friends_usage)\n",
    "median = statistics.median(friends_usage)\n",
    "pstdev = round(statistics.pstdev(friends_usage),2)\n",
    "pvariance = round(statistics.variance(friends_usage),2)\n",
    "srange = (max(friends_usage)-min(friends_usage))\n",
    "\n",
    "variance = round(statistics.variance(sample_data_list),2)\n",
    "stdev = round(statistics.stdev(sample_data_list),2)\n",
    "print(\"Descriptive Statistics\")\n",
    "print(\"Mean:\",mean)\n",
    "print(\"Mode:\",mode)\n",
    "print(\"Median:\",median)\n",
    "print(\"Range:\",srange)\n",
    "print(\"Population Variance:\",pvariance)\n",
    "print(\"Population Standard Deviation:\",pstdev)"
   ]
  },
  {
   "cell_type": "markdown",
   "id": "d8869837",
   "metadata": {},
   "source": [
    "## NumPy Statistics"
   ]
  },
  {
   "cell_type": "code",
   "execution_count": 1,
   "id": "6f445067",
   "metadata": {},
   "outputs": [
    {
     "name": "stdout",
     "output_type": "stream",
     "text": [
      "Mean: 5.6923076923076925\n",
      "Mode: ModeResult(mode=array([5]), count=array([8]))\n",
      "Median: 5.0\n",
      "Range: 8\n",
      "Variance: 5.06\n",
      "Standard Deviation: 2.25\n",
      "Sample Variance: 3.5\n",
      "Sample Standard Deviation: 1.87\n"
     ]
    }
   ],
   "source": [
    "import numpy as np\n",
    "import array as arr\n",
    "from scipy import stats\n",
    "\n",
    "f_usage = [5,4,3,5,8,2,5,2,5,8,10,8,7,9,10,5,7,5,7,5,4,4,3,5,8,4]\n",
    "\n",
    "def display_stat():\n",
    "    print(\"Mean:\",mean)\n",
    "    print(\"Mode:\",mode)\n",
    "    print(\"Median:\",median)\n",
    "    print(\"Range:\",srange)\n",
    "    print(\"Variance:\",pvariance)\n",
    "    print(\"Standard Deviation:\",pstdev)\n",
    "    print(\"Sample Variance:\",variance)\n",
    "    print(\"Sample Standard Deviation:\",sdeviation)\n",
    "\n",
    "mean = np.mean(f_usage)\n",
    "median = np.median(f_usage)\n",
    "pvariance = round(np.var(f_usage),2)\n",
    "pstdev = round(np.std(f_usage),2)\n",
    "\n",
    "srange = np.ptp(f_usage)\n",
    "mode = stats.mode(f_usage)\n",
    "\n",
    "sample_data = arr.array('i',f_usage)\n",
    "dataset = sample_data[0:5]\n",
    "f_usage_s = dataset.tolist()\n",
    "\n",
    "variance = round(np.var(f_usage_s,ddof=1),2)\n",
    "sdeviation = round(np.std(f_usage_s,ddof=1),2)\n",
    "\n",
    "display_stat()"
   ]
  },
  {
   "cell_type": "code",
   "execution_count": null,
   "id": "9f07ae99",
   "metadata": {},
   "outputs": [],
   "source": []
  }
 ],
 "metadata": {
  "kernelspec": {
   "display_name": "Python 3 (ipykernel)",
   "language": "python",
   "name": "python3"
  },
  "language_info": {
   "codemirror_mode": {
    "name": "ipython",
    "version": 3
   },
   "file_extension": ".py",
   "mimetype": "text/x-python",
   "name": "python",
   "nbconvert_exporter": "python",
   "pygments_lexer": "ipython3",
   "version": "3.10.4"
  }
 },
 "nbformat": 4,
 "nbformat_minor": 5
}
